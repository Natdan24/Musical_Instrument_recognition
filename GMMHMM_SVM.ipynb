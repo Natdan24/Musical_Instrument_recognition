{
 "cells": [
  {
   "cell_type": "code",
   "execution_count": null,
   "metadata": {},
   "outputs": [],
   "source": [
    "pip install hmmlearn librosa numpy scikit-learn"
   ]
  },
  {
   "cell_type": "markdown",
   "metadata": {},
   "source": [
    "Code for GMMHMMs"
   ]
  },
  {
   "cell_type": "code",
   "execution_count": 2,
   "metadata": {},
   "outputs": [
    {
     "name": "stdout",
     "output_type": "stream",
     "text": [
      "Classification Report:\n",
      "                 precision    recall  f1-score   support\n",
      "\n",
      "Acoustic_guitar       0.43      0.33      0.38         9\n",
      "      Bass_drum       0.90      1.00      0.95         9\n",
      "          Cello       0.50      0.89      0.64         9\n",
      "       Clarinet       0.67      0.44      0.53         9\n",
      "    Double_bass       0.54      0.78      0.64         9\n",
      "          Flute       0.50      0.78      0.61         9\n",
      "         Hi_hat       0.90      1.00      0.95         9\n",
      "      Saxophone       0.67      0.67      0.67         9\n",
      "     Snare_drum       1.00      0.33      0.50         9\n",
      "         Violin       0.50      0.18      0.27        11\n",
      "\n",
      "       accuracy                           0.63        92\n",
      "      macro avg       0.66      0.64      0.61        92\n",
      "   weighted avg       0.66      0.63      0.60        92\n",
      "\n",
      "Accuracy: 0.63\n"
     ]
    }
   ],
   "source": [
    "import os\n",
    "import numpy as np\n",
    "import librosa\n",
    "from sklearn.model_selection import train_test_split\n",
    "from sklearn.preprocessing import LabelEncoder\n",
    "from hmmlearn.hmm import GaussianHMM\n",
    "from sklearn.metrics import classification_report, accuracy_score\n",
    "\n",
    "# Configuration\n",
    "NUM_MFCC = 13  # Number of MFCC features\n",
    "NUM_GAUSSIANS = 5  # Number of Gaussians in GMM\n",
    "NUM_HMM_STATES = 3  # Number of states in HMM\n",
    "AUDIO_PATH = \"C:/Users/Natasha/Desktop/research_module/Musical_Instrument_Data\"\n",
    "\n",
    "# Step 1: Feature Extraction\n",
    "def extract_features(file_path):\n",
    "    \"\"\"Extract MFCC + Delta + Delta-Delta features for a given audio file.\"\"\"\n",
    "    y, sr = librosa.load(file_path, sr=None)\n",
    "    mfccs = librosa.feature.mfcc(y=y, sr=sr, n_mfcc=NUM_MFCC)\n",
    "    delta_mfccs = librosa.feature.delta(mfccs)\n",
    "    delta2_mfccs = librosa.feature.delta(mfccs, order=2)\n",
    "    return np.concatenate((mfccs, delta_mfccs, delta2_mfccs), axis=0).T  # Transpose for (timesteps, features)\n",
    "\n",
    "# Step 2: Load Dataset\n",
    "def load_dataset(audio_path):\n",
    "    \"\"\"Load audio dataset and extract features.\"\"\"\n",
    "    features, labels = [], []\n",
    "    for instrument_folder in os.listdir(audio_path):\n",
    "        folder_path = os.path.join(audio_path, instrument_folder)\n",
    "        if os.path.isdir(folder_path):\n",
    "            for file_name in os.listdir(folder_path):\n",
    "                file_path = os.path.join(folder_path, file_name)\n",
    "                if file_name.endswith('.wav') or file_name.endswith('.mp3'):\n",
    "                    try:\n",
    "                        feature = extract_features(file_path)\n",
    "                        features.append(feature)\n",
    "                        labels.append(instrument_folder)\n",
    "                    except Exception as e:\n",
    "                        print(f\"Error processing {file_path}: {e}\")\n",
    "    return features, labels\n",
    "\n",
    "# Step 3: Train GMM-HMM Models\n",
    "def train_gmm_hmm(features, labels):\n",
    "    \"\"\"\n",
    "    Train one GMM-HMM per class (instrument).\n",
    "    Returns the trained models and the label encoder.\n",
    "    \"\"\"\n",
    "    label_encoder = LabelEncoder()\n",
    "    labels_encoded = label_encoder.fit_transform(labels)\n",
    "\n",
    "    models = []\n",
    "    for label in np.unique(labels_encoded):\n",
    "        # Get features for this class\n",
    "        class_features = [features[i] for i in range(len(features)) if labels_encoded[i] == label]\n",
    "        class_features = np.vstack(class_features)  # Combine all sequences into one array\n",
    "        \n",
    "        # Train GMM-HMM\n",
    "        hmm = GaussianHMM(n_components=NUM_HMM_STATES, covariance_type='diag', n_iter=100)\n",
    "        hmm.fit(class_features)\n",
    "        models.append(hmm)\n",
    "    \n",
    "    return models, label_encoder\n",
    "\n",
    "# Step 4: Predict Class for an Audio File\n",
    "def predict_class(models, label_encoder, feature):\n",
    "    \"\"\"\n",
    "    Predict the class of a given feature sequence using GMM-HMMs.\n",
    "    \"\"\"\n",
    "    log_likelihoods = [model.score(feature) for model in models]\n",
    "    predicted_label = np.argmax(log_likelihoods)  # Class with the highest log-likelihood\n",
    "    return label_encoder.inverse_transform([predicted_label])[0]\n",
    "\n",
    "# Step 5: Evaluate Models\n",
    "def evaluate_gmm_hmm(models, label_encoder, features, labels):\n",
    "    \"\"\"\n",
    "    Evaluate the GMM-HMM models on a test dataset.\n",
    "    \"\"\"\n",
    "    y_true = labels\n",
    "    y_pred = [predict_class(models, label_encoder, feature) for feature in features]\n",
    "    print(\"Classification Report:\")\n",
    "    print(classification_report(y_true, y_pred, target_names=label_encoder.classes_))\n",
    "    print(f\"Accuracy: {accuracy_score(y_true, y_pred):.2f}\")\n",
    "\n",
    "# Main Workflow\n",
    "if __name__ == \"__main__\":\n",
    "    # Load dataset\n",
    "    features, labels = load_dataset(AUDIO_PATH)\n",
    "    \n",
    "    # Split dataset into training and testing sets\n",
    "    X_train, X_test, y_train, y_test = train_test_split(features, labels, test_size=0.3, stratify=labels, random_state=42)\n",
    "    \n",
    "    # Train GMM-HMM models\n",
    "    models, label_encoder = train_gmm_hmm(X_train, y_train)\n",
    "    \n",
    "    # Evaluate GMM-HMM models\n",
    "    evaluate_gmm_hmm(models, label_encoder, X_test, y_test)"
   ]
  },
  {
   "cell_type": "markdown",
   "metadata": {},
   "source": [
    "Ensemble Techniques for GMM-HMMs"
   ]
  },
  {
   "cell_type": "markdown",
   "metadata": {},
   "source": [
    "1. Generate Log-Likelihood Features"
   ]
  },
  {
   "cell_type": "code",
   "execution_count": 3,
   "metadata": {},
   "outputs": [],
   "source": [
    "def extract_log_likelihood_features(models, features):\n",
    "    \"\"\"\n",
    "    Generate log-likelihood features for each input sequence using trained GMM-HMMs.\n",
    "    \"\"\"\n",
    "    log_likelihood_features = []\n",
    "    for feature in features:\n",
    "        log_likelihood = [model.score(feature) for model in models]\n",
    "        log_likelihood_features.append(log_likelihood)\n",
    "    return np.array(log_likelihood_features)"
   ]
  },
  {
   "cell_type": "markdown",
   "metadata": {},
   "source": [
    "2. Train and Evaluate SVM"
   ]
  },
  {
   "cell_type": "code",
   "execution_count": 4,
   "metadata": {},
   "outputs": [
    {
     "name": "stdout",
     "output_type": "stream",
     "text": [
      "SVM Classification Report:\n",
      "                 precision    recall  f1-score   support\n",
      "\n",
      "Acoustic_guitar       1.00      0.11      0.20         9\n",
      "      Bass_drum       0.89      0.89      0.89         9\n",
      "          Cello       0.50      0.78      0.61         9\n",
      "       Clarinet       0.60      0.33      0.43         9\n",
      "    Double_bass       0.23      0.78      0.36         9\n",
      "          Flute       0.38      0.67      0.48         9\n",
      "         Hi_hat       0.40      0.67      0.50         9\n",
      "      Saxophone       1.00      0.11      0.20         9\n",
      "     Snare_drum       0.00      0.00      0.00         9\n",
      "         Violin       1.00      0.09      0.17        11\n",
      "\n",
      "       accuracy                           0.43        92\n",
      "      macro avg       0.60      0.44      0.38        92\n",
      "   weighted avg       0.61      0.43      0.38        92\n",
      "\n",
      "SVM Accuracy: 0.43\n"
     ]
    },
    {
     "name": "stderr",
     "output_type": "stream",
     "text": [
      "c:\\Users\\Natasha\\AppData\\Local\\Programs\\Python\\Python311\\Lib\\site-packages\\sklearn\\metrics\\_classification.py:1531: UndefinedMetricWarning: Precision is ill-defined and being set to 0.0 in labels with no predicted samples. Use `zero_division` parameter to control this behavior.\n",
      "  _warn_prf(average, modifier, f\"{metric.capitalize()} is\", len(result))\n",
      "c:\\Users\\Natasha\\AppData\\Local\\Programs\\Python\\Python311\\Lib\\site-packages\\sklearn\\metrics\\_classification.py:1531: UndefinedMetricWarning: Precision is ill-defined and being set to 0.0 in labels with no predicted samples. Use `zero_division` parameter to control this behavior.\n",
      "  _warn_prf(average, modifier, f\"{metric.capitalize()} is\", len(result))\n",
      "c:\\Users\\Natasha\\AppData\\Local\\Programs\\Python\\Python311\\Lib\\site-packages\\sklearn\\metrics\\_classification.py:1531: UndefinedMetricWarning: Precision is ill-defined and being set to 0.0 in labels with no predicted samples. Use `zero_division` parameter to control this behavior.\n",
      "  _warn_prf(average, modifier, f\"{metric.capitalize()} is\", len(result))\n"
     ]
    }
   ],
   "source": [
    "from sklearn.svm import SVC\n",
    "from sklearn.preprocessing import StandardScaler\n",
    "\n",
    "# Extract log-likelihood features\n",
    "X_train_ll = extract_log_likelihood_features(models, X_train)\n",
    "X_test_ll = extract_log_likelihood_features(models, X_test)\n",
    "\n",
    "# Standardize features\n",
    "scaler = StandardScaler()\n",
    "X_train_ll = scaler.fit_transform(X_train_ll)\n",
    "X_test_ll = scaler.transform(X_test_ll)\n",
    "\n",
    "# Train SVM\n",
    "svm = SVC(kernel='linear', C=1.0)\n",
    "svm.fit(X_train_ll, y_train)\n",
    "\n",
    "# Evaluate SVM\n",
    "y_pred = svm.predict(X_test_ll)\n",
    "print(\"SVM Classification Report:\")\n",
    "print(classification_report(y_test, y_pred, target_names=label_encoder.classes_))\n",
    "print(f\"SVM Accuracy: {accuracy_score(y_test, y_pred):.2f}\")"
   ]
  }
 ],
 "metadata": {
  "kernelspec": {
   "display_name": "Python 3",
   "language": "python",
   "name": "python3"
  },
  "language_info": {
   "codemirror_mode": {
    "name": "ipython",
    "version": 3
   },
   "file_extension": ".py",
   "mimetype": "text/x-python",
   "name": "python",
   "nbconvert_exporter": "python",
   "pygments_lexer": "ipython3",
   "version": "3.11.0"
  }
 },
 "nbformat": 4,
 "nbformat_minor": 2
}
